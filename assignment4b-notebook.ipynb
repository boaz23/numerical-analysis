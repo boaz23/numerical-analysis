{
 "cells": [
  {
   "cell_type": "code",
   "execution_count": 11,
   "metadata": {},
   "outputs": [],
   "source": [
    "import numpy as np\n",
    "import torch\n",
    "import time\n",
    "import matplotlib.pyplot as plt"
   ]
  },
  {
   "cell_type": "code",
   "execution_count": 118,
   "metadata": {},
   "outputs": [],
   "source": [
    "from mpl_toolkits.axisartist.axislines import SubplotZero\n",
    "def draw_x():\n",
    "    fig = plt.figure()\n",
    "    ax = SubplotZero(fig, 111)\n",
    "    fig.add_subplot(ax)\n",
    "    ax.axis[\"xzero\"].set_axisline_style(\"-|>\")\n",
    "    ax.axis[\"xzero\"].set_visible(True)"
   ]
  },
  {
   "cell_type": "code",
   "execution_count": 119,
   "metadata": {},
   "outputs": [],
   "source": [
    "class Circle:\n",
    "    def __init__(self, cx: np.float32, cy: np.float32, radius: np.float32, noise: np.float32):\n",
    "        self._radius = radius\n",
    "        self._noise = noise\n",
    "        self._cx = cx\n",
    "        self._cy = cy\n",
    "\n",
    "    def sample(self):\n",
    "        w = np.random.random() * 2 * np.pi\n",
    "        x = np.cos(w) * self._radius + self._cx\n",
    "        x += np.random.randn() * self._noise\n",
    "        y = np.sin(w) * self._radius + self._cy\n",
    "        y += np.random.randn() * self._noise\n",
    "        return x, y\n",
    "\n",
    "    def contour(self, n: int):\n",
    "        w = np.linspace(0, 2 * np.pi, num=n)\n",
    "        x = np.cos(w) * self._radius + self._cx\n",
    "        y = np.sin(w) * self._radius + self._cy\n",
    "        xy = np.stack((x, y), axis=1)\n",
    "        return xy\n",
    "\n",
    "    def area(self):\n",
    "        a = np.pi * self._radius ** 2\n",
    "        return a\n",
    "    \n",
    "def squareContour(n):\n",
    "    size = int(n / 2)\n",
    "    x1 = np.linspace(2, 4, num=size)\n",
    "    y1 = np.ones(size) * 4\n",
    "    c1 = np.stack((x1, y1), axis=1)\n",
    "\n",
    "    y2 = np.linspace(2, 4, num=size)\n",
    "    x2 = np.ones(size) * 4\n",
    "    c2 = np.stack((x2, np.flip(y2)), axis=1)\n",
    "\n",
    "    y3 = np.ones(size) * 2\n",
    "    c3 = np.stack((np.flip(x1), y3), axis=1)\n",
    "\n",
    "    x4 = np.ones(size) * 2\n",
    "    c4 = np.stack((x4, y2), axis=1)\n",
    "    \n",
    "    return np.concatenate((c1, c2, c3, c4))"
   ]
  },
  {
   "cell_type": "code",
   "execution_count": 146,
   "metadata": {},
   "outputs": [],
   "source": [
    "def trapezoidal(x0, y0, x1, y1):\n",
    "    #print(f\"{x0, y0}, {x1, y1} => {(x1 - x0) * ((y1 + y0) / 2)}\")\n",
    "    return (x1 - x0) * ((y1 + y0) / 2)\n",
    "\n",
    "def area_core(points):\n",
    "    n = len(points)\n",
    "\n",
    "    def trapezoidal_i(i, j):\n",
    "        return trapezoidal(points[i][0], points[i][1], points[j][0], points[j][1])\n",
    "    sum_parts = [trapezoidal_i(i, i + 1) for i in range(n - 1)]\n",
    "    sum_parts.append(trapezoidal_i(n - 1, 0))\n",
    "    sum_parts.sort(key=lambda x: abs(x))\n",
    "    return abs(sum(sum_parts))"
   ]
  },
  {
   "cell_type": "code",
   "execution_count": 150,
   "metadata": {},
   "outputs": [],
   "source": [
    "circ = Circle(cx=0.5, cy=0.2, radius=1, noise=0.0)\n",
    "contour = circ.contour\n",
    "#contour = squareContour"
   ]
  },
  {
   "cell_type": "code",
   "execution_count": 151,
   "metadata": {},
   "outputs": [
    {
     "name": "stdout",
     "output_type": "stream",
     "text": [
      "n=1000, area: 3.1415719413758465\n"
     ]
    },
    {
     "data": {
      "image/png": "[encoded data removed]",
      "text/plain": [
       "<Figure size 432x288 with 1 Axes>"
      ]
     },
     "metadata": {
      "needs_background": "light"
     },
     "output_type": "display_data"
    }
   ],
   "source": [
    "def split_points(points):\n",
    "    xs = [p[0] for p in points]\n",
    "    ys = [p[1] for p in points]\n",
    "    return xs, ys\n",
    "n = 1000\n",
    "points = contour(n)\n",
    "s = area_core(points)\n",
    "print(f\"n={n}, area: {s}\")\n",
    "xs, ys = split_points(points)\n",
    "xs_smooth, ys_smooth = split_points(contour(1000))\n",
    "draw_x()\n",
    "plt.plot(xs, ys, 'o')\n",
    "plt.plot(xs_smooth, ys_smooth, 'g')\n",
    "plt.show()"
   ]
  },
  {
   "cell_type": "code",
   "execution_count": null,
   "metadata": {},
   "outputs": [],
   "source": []
  }
 ],
 "metadata": {
  "kernelspec": {
   "display_name": "Python 3",
   "language": "python",
   "name": "python3"
  },
  "language_info": {
   "codemirror_mode": {
    "name": "ipython",
    "version": 3
   },
   "file_extension": ".py",
   "mimetype": "text/x-python",
   "name": "python",
   "nbconvert_exporter": "python",
   "pygments_lexer": "ipython3",
   "version": "3.8.3"
  }
 },
 "nbformat": 4,
 "nbformat_minor": 4
}
