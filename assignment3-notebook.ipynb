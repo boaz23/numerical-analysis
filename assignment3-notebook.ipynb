{
 "cells": [
  {
   "cell_type": "code",
   "execution_count": 10,
   "metadata": {},
   "outputs": [],
   "source": [
    "import numpy as np\n",
    "import functools"
   ]
  },
  {
   "cell_type": "code",
   "execution_count": 31,
   "metadata": {},
   "outputs": [
    {
     "name": "stdout",
     "output_type": "stream",
     "text": [
      "[(0, True, 0.0), (8, True, 0.0), (1, False, 0.4375), (7, False, 0.4375), (2, False, 0.75), (6, False, 0.75), (3, False, 0.9375), (5, False, 0.9375), (4, False, 1.0)]\n",
      "acc: 0.0\n",
      "0, True, 0.0\n",
      "\n",
      "acc: 0.0\n",
      "8, True, 0.0\n",
      "\n",
      "acc: 0.0\n",
      "1, False, 0.4375\n",
      "\n",
      "acc: 0.875\n",
      "7, False, 0.4375\n",
      "\n",
      "acc: 1.75\n",
      "2, False, 0.75\n",
      "\n",
      "acc: 2.5\n",
      "6, False, 0.75\n",
      "\n",
      "acc: 3.25\n",
      "3, False, 0.9375\n",
      "\n",
      "acc: 5.125\n",
      "5, False, 0.9375\n",
      "\n",
      "acc: 7.0\n",
      "4, False, 1.0\n",
      "\n",
      "sum: 8.0\n",
      "1.3333334\n"
     ]
    }
   ],
   "source": [
    "def integrate_simpson_composite(f: callable, a: float, b: float, n: int) -> np.float32:\n",
    "    if n % 2 == 0:\n",
    "        n -= 1\n",
    "    a = np.float32(a)\n",
    "    b = np.float32(b)\n",
    "    xs = np.linspace(a, b, n, dtype=np.float32)\n",
    "    ys = [(0, True, np.float32(f(a)))]\n",
    "    ys = ys + [(i, False, np.float32(f(xs[i]))) for i in range(1, n - 1)]\n",
    "    ys = ys + [(n - 1, True, np.float32(f(b)))]\n",
    "    ys.sort(key=lambda p_info: abs(p_info[2]))\n",
    "    print(ys)\n",
    "    def sum_ys(acc, p_info):\n",
    "        i, is_end_point, y = p_info\n",
    "        print(f\"acc: {acc}\")\n",
    "        print(f\"{i}, {is_end_point}, {y}\")\n",
    "        print(\"\")\n",
    "        acc = np.float32(acc)\n",
    "        if is_end_point:\n",
    "            return acc + y\n",
    "        if i % 2 == 0:\n",
    "            return acc + y\n",
    "        return acc + np.float32(2 * y)\n",
    "    sum = functools.reduce(sum_ys, ys, np.float32(0))\n",
    "    print(f\"sum: {sum}\")\n",
    "    h = np.float32(np.float32(b - a) / np.float32(n - 1))\n",
    "    return np.float32(np.float32(np.float32((h / 3)) * 2) * sum)\n",
    "\n",
    "f1 = np.poly1d([-1, 0, 1])\n",
    "print(integrate_simpson_composite(f1, -1, 1, 10))"
   ]
  },
  {
   "cell_type": "code",
   "execution_count": null,
   "metadata": {},
   "outputs": [],
   "source": []
  }
 ],
 "metadata": {
  "kernelspec": {
   "display_name": "Python 3",
   "language": "python",
   "name": "python3"
  },
  "language_info": {
   "codemirror_mode": {
    "name": "ipython",
    "version": 3
   },
   "file_extension": ".py",
   "mimetype": "text/x-python",
   "name": "python",
   "nbconvert_exporter": "python",
   "pygments_lexer": "ipython3",
   "version": "3.8.3"
  }
 },
 "nbformat": 4,
 "nbformat_minor": 4
}
